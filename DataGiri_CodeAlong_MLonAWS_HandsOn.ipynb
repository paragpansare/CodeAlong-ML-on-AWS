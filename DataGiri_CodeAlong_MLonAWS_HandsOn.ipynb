{
 "cells": [
  {
   "cell_type": "markdown",
   "metadata": {},
   "source": [
    "# Code-Along - Machine Learning on AWS - Hands On Lab"
   ]
  },
  {
   "cell_type": "markdown",
   "metadata": {},
   "source": [
    "## Table of Contents\n",
    "\n",
    "<a href='#1'>1. AWS Set up (cont...)</a>\n",
    "\n",
    "<br/>\n",
    "<a href='#2'>2. Data Preparation</a>\n",
    "<ul>\n",
    "<a href='#2.1'><li>2.1 Download the MNIST Dataset</li></a>\n",
    "<a href='#2.2'><li>2.2 Explore the Training Dataset</li></a>\n",
    "</ul>\n",
    "<br/>\n",
    "<a href='#3'>3. Train a Model</a>\n",
    "<ul>\n",
    "<a href='#3.1'><li>3.1 Create a Training Job</li></a>\n",
    "<a href='#3.2'><li>3.2 Start the Training Job</li></a>\n",
    "<a href='#3.3'><li>3.3 Additional Notes - Implicit Actions</li></a>\n",
    "</ul>\n",
    "\n",
    "[4. Deploy the Model to Amazon SageMaker](#4)\n",
    "<br/>\n",
    "[5. Validate the Model](#5)\n",
    "<br/>\n",
    "[6. Clean Up](#6)\n",
    "<br/>\n"
   ]
  },
  {
   "cell_type": "markdown",
   "metadata": {},
   "source": [
    "<a id='1'></a>"
   ]
  },
  {
   "cell_type": "markdown",
   "metadata": {},
   "source": [
    "### 1. AWS Set Up (cont...)"
   ]
  },
  {
   "cell_type": "code",
   "execution_count": 1,
   "metadata": {},
   "outputs": [],
   "source": [
    "# The get_execution_role function retrieves the IAM role we created at the time of creating the notebook instance\n",
    "from sagemaker import get_execution_role\n",
    "role = get_execution_role()\n",
    "\n",
    "# Add the name of the S3 bucket that you created in previous step\n",
    "bucket = 'paragpansarez-sagemaker-1'"
   ]
  },
  {
   "cell_type": "markdown",
   "metadata": {},
   "source": [
    "<a id='2'></a>"
   ]
  },
  {
   "cell_type": "markdown",
   "metadata": {},
   "source": [
    "### 2. Data Preparation"
   ]
  },
  {
   "cell_type": "markdown",
   "metadata": {},
   "source": [
    "<a id='2.1'></a>"
   ]
  },
  {
   "cell_type": "markdown",
   "metadata": {},
   "source": [
    "#### 2.1 Download the MNIST Dataset "
   ]
  },
  {
   "cell_type": "code",
   "execution_count": 2,
   "metadata": {},
   "outputs": [
    {
     "name": "stdout",
     "output_type": "stream",
     "text": [
      "CPU times: user 908 ms, sys: 304 ms, total: 1.21 s\n",
      "Wall time: 3.96 s\n"
     ]
    }
   ],
   "source": [
    "%%time \n",
    "import pickle, gzip, numpy, urllib.request, json\n",
    "\n",
    "# Download the MNIST dataset (mnist.pkl.gz) from the deeplearning.net website to your Amazon SageMaker notebook instance\n",
    "# MNIST dataset contains 70K 28 x 28 pixel images of handwritten digits\n",
    "urllib.request.urlretrieve(\"http://deeplearning.net/data/mnist/mnist.pkl.gz\", \"mnist.pkl.gz\")\n",
    "\n",
    "\n",
    "# Unzip the file and read the following three datasets into the notebook's memory:\n",
    "#      train_set — You use these images of handwritten numbers to train a model.\n",
    "#      valid_set — After you train the model, you validate it using the images in this dataset.\n",
    "#      test_set — You don't use this dataset in this exercise.\n",
    "\n",
    "with gzip.open('mnist.pkl.gz', 'rb') as f:\n",
    "    train_set, valid_set, test_set = pickle.load(f, encoding='latin1')"
   ]
  },
  {
   "cell_type": "markdown",
   "metadata": {},
   "source": [
    "<a id='2.1'></a>"
   ]
  },
  {
   "cell_type": "markdown",
   "metadata": {},
   "source": [
    "<a id='2.2'></a>"
   ]
  },
  {
   "cell_type": "markdown",
   "metadata": {},
   "source": [
    "#### 2.2 Explore the Training Dataset"
   ]
  },
  {
   "cell_type": "markdown",
   "metadata": {},
   "source": [
    "Typically, we explore training data to determine what we need to clean up and which transformations to apply to improve model \n",
    "training. For this exercise, we don't need to clean up the MNIST dataset. Simply display one of the images in the train_set dataset.\n",
    "\n",
    "train_set contains the following data:\n",
    "    - train_set[0] contains images\n",
    "    - train_set[1] contains labels\n",
    "\n",
    "The code uses the matplotlib library to get and display the 31st image from the training dataset."
   ]
  },
  {
   "cell_type": "code",
   "execution_count": 3,
   "metadata": {},
   "outputs": [
    {
     "data": {
      "image/png": "[encoded data removed]",
      "text/plain": [
       "<Figure size 144x720 with 1 Axes>"
      ]
     },
     "metadata": {},
     "output_type": "display_data"
    }
   ],
   "source": [
    "%matplotlib inline\n",
    "import matplotlib.pyplot as plt\n",
    "plt.rcParams[\"figure.figsize\"] = (2,10)\n",
    "\n",
    "def show_digit(img, caption='', subplot=None):\n",
    "    if subplot == None:\n",
    "        _, (subplot) = plt.subplots(1,1)\n",
    "    imgr = img.reshape((28,28))\n",
    "    subplot.axis('off')\n",
    "    subplot.imshow(imgr, cmap='gray')\n",
    "    plt.title(caption)\n",
    "\n",
    "show_digit(train_set[0][30], 'This is a {}'.format(train_set[1][30]))"
   ]
  },
  {
   "cell_type": "markdown",
   "metadata": {},
   "source": [
    "<a id='3'></a>"
   ]
  },
  {
   "cell_type": "markdown",
   "metadata": {},
   "source": [
    "### 3. Train a Model"
   ]
  },
  {
   "cell_type": "markdown",
   "metadata": {},
   "source": [
    "Now the data is preprocessed and available in the required format. The next step is to train the model by creating the training job using KMeans estimator's fit method."
   ]
  },
  {
   "cell_type": "markdown",
   "metadata": {},
   "source": [
    "<a id='3.1'></a>"
   ]
  },
  {
   "cell_type": "markdown",
   "metadata": {},
   "source": [
    "#### 3.1 Create a Training Job"
   ]
  },
  {
   "cell_type": "code",
   "execution_count": 4,
   "metadata": {},
   "outputs": [
    {
     "name": "stdout",
     "output_type": "stream",
     "text": [
      "training data will be uploaded to: s3://paragpansarez-sagemaker-1/kmeans_highlevel_example/data\n",
      "training artifacts will be uploaded to: s3://paragpansarez-sagemaker-1/kmeans_highlevel_example/output\n"
     ]
    }
   ],
   "source": [
    "#This Python library provides the KMeans estimator, which is a class in the sagemaker.amazon.kmeans.KMeans module.\n",
    "from sagemaker import KMeans\n",
    "\n",
    "data_location = 's3://{}/kmeans_highlevel_example/data'.format(bucket)\n",
    "output_location = 's3://{}/kmeans_highlevel_example/output'.format(bucket)\n",
    "\n",
    "print('training data will be uploaded to: {}'.format(data_location))\n",
    "print('training artifacts will be uploaded to: {}'.format(output_location))"
   ]
  },
  {
   "cell_type": "markdown",
   "metadata": {},
   "source": [
    "Create an instance of the sagemaker.amazon.kmeans.KMeans class\n",
    "\n",
    "In the constructor, specify the following parameters:\n",
    "\n",
    "1)  role — The IAM role that Amazon SageMaker can assume to perform tasks on your behalf (for example, reading training results called model artifacts from the S3 bucket and writing training results to S3 bucket).\n",
    "\n",
    "2) output_path — The S3 location where Amazon SageMaker stores the training results.\n",
    "\n",
    "3) train_instance_count and train_instance_type — The type and number of ML compute instances to use for model training.\n",
    "\n",
    "4) k — The number of clusters to create.\n",
    "\n",
    "5) data_location — The S3 location where the high-level library uploads the transformed training data."
   ]
  },
  {
   "cell_type": "code",
   "execution_count": 5,
   "metadata": {},
   "outputs": [],
   "source": [
    "kmeans = KMeans(role=role, train_instance_count=2, train_instance_type='ml.c4.8xlarge', output_path=output_location, k=10, \n",
    "                data_location=data_location)"
   ]
  },
  {
   "cell_type": "markdown",
   "metadata": {},
   "source": [
    "<a id='3.2'></a>"
   ]
  },
  {
   "cell_type": "markdown",
   "metadata": {},
   "source": [
    "#### 3.2 Start the Training Job"
   ]
  },
  {
   "cell_type": "code",
   "execution_count": 8,
   "metadata": {},
   "outputs": [
    {
     "name": "stderr",
     "output_type": "stream",
     "text": [
      "INFO:sagemaker:Creating training-job with name: kmeans-2018-10-06-17-49-22-982\n"
     ]
    },
    {
     "name": "stdout",
     "output_type": "stream",
     "text": [
      "2018-10-06 17:49:23 Starting - Starting the training job...\n",
      "Launching requested ML instances......\n",
      "Preparing the instances for training......\n",
      "2018-10-06 17:51:30 Downloading - Downloading input data\n",
      "2018-10-06 17:51:50 Training - Downloading the training image.\n",
      "\u001b[32mDocker entrypoint called with argument(s): train\u001b[0m\n",
      "\u001b[32m[10/06/2018 17:51:55 INFO 139906244921152] Reading default configuration from /opt/amazon/lib/python2.7/site-packages/algorithm/resources/default-input.json: {u'_tuning_objective_metric': u'', u'_num_gpus': u'auto', u'local_lloyd_num_trials': u'auto', u'_log_level': u'info', u'_kvstore': u'auto', u'local_lloyd_init_method': u'kmeans++', u'force_dense': u'true', u'epochs': u'1', u'init_method': u'random', u'local_lloyd_tol': u'0.0001', u'local_lloyd_max_iter': u'300', u'_disable_wait_to_read': u'false', u'extra_center_factor': u'auto', u'eval_metrics': u'[\"msd\"]', u'_num_kv_servers': u'1', u'mini_batch_size': u'5000', u'half_life_time_size': u'0', u'_num_slices': u'1'}\u001b[0m\n",
      "\u001b[32m[10/06/2018 17:51:55 INFO 139906244921152] Reading provided configuration from /opt/ml/input/config/hyperparameters.json: {u'feature_dim': u'784', u'k': u'10', u'force_dense': u'True'}\u001b[0m\n",
      "\u001b[32m[10/06/2018 17:51:55 INFO 139906244921152] Final configuration: {u'k': u'10', u'_tuning_objective_metric': u'', u'_num_gpus': u'auto', u'local_lloyd_num_trials': u'auto', u'_log_level': u'info', u'_kvstore': u'auto', u'local_lloyd_init_method': u'kmeans++', u'force_dense': u'True', u'epochs': u'1', u'init_method': u'random', u'feature_dim': u'784', u'local_lloyd_tol': u'0.0001', u'local_lloyd_max_iter': u'300', u'_disable_wait_to_read': u'false', u'extra_center_factor': u'auto', u'eval_metrics': u'[\"msd\"]', u'_num_kv_servers': u'1', u'mini_batch_size': u'5000', u'half_life_time_size': u'0', u'_num_slices': u'1'}\u001b[0m\n",
      "\u001b[32m[10/06/2018 17:51:55 WARNING 139906244921152] Loggers have already been setup.\u001b[0m\n",
      "\u001b[32m[10/06/2018 17:51:56 INFO 139906244921152] Environment: {'ECS_CONTAINER_METADATA_URI': 'http://169.254.170.2/v3/93d5bfe8-fff9-48b3-a4eb-8d1b0b2304e9', 'PROTOCOL_BUFFERS_PYTHON_IMPLEMENTATION_VERSION': '2', 'DMLC_PS_ROOT_PORT': '9000', 'DMLC_NUM_WORKER': '2', 'SAGEMAKER_HTTP_PORT': '8080', 'PATH': '/opt/amazon/bin:/usr/local/nvidia/bin:/usr/local/sbin:/usr/local/bin:/usr/sbin:/usr/bin:/sbin:/bin:/opt/amazon/bin:/opt/amazon/bin', 'PYTHONUNBUFFERED': 'TRUE', 'CANONICAL_ENVROOT': '/opt/amazon', 'LD_LIBRARY_PATH': '/usr/local/nvidia/lib64:/opt/amazon/lib', 'MXNET_KVSTORE_BIGARRAY_BOUND': '400000000', 'LANG': 'en_US.utf8', 'DMLC_INTERFACE': 'ethwe', 'SHLVL': '1', 'DMLC_PS_ROOT_URI': '10.32.0.4', 'AWS_REGION': 'us-east-1', 'NVIDIA_VISIBLE_DEVICES': 'all', 'TRAINING_JOB_NAME': 'kmeans-2018-10-06-17-49-22-982', 'HOME': '/root', 'PROTOCOL_BUFFERS_PYTHON_IMPLEMENTATION': 'cpp', 'ENVROOT': '/opt/amazon', 'SAGEMAKER_DATA_PATH': '/opt/ml', 'NVIDIA_DRIVER_CAPABILITIES': 'compute,utility', 'NVIDIA_REQUIRE_CUDA': 'cuda>=9.0', 'OMP_NUM_THREADS': '18', 'HOSTNAME': 'aws', 'AWS_CONTAINER_CREDENTIALS_RELATIVE_URI': '/v2/credentials/f175e5e4-56cb-4989-9aaa-8571df1c8d2f', 'DMLC_ROLE': 'worker', 'PWD': '/', 'DMLC_NUM_SERVER': '1'}\u001b[0m\n",
      "\u001b[32m[10/06/2018 17:51:56 INFO 139906244921152] Using default worker.\u001b[0m\n",
      "\u001b[32m[10/06/2018 17:51:56 INFO 139906244921152] Loaded iterator creator application/x-recordio-protobuf for content type ('application/x-recordio-protobuf', '1.0')\u001b[0m\n",
      "\u001b[32m[10/06/2018 17:51:56 INFO 139906244921152] Create Store: dist_async\u001b[0m\n",
      "\u001b[31mDocker entrypoint called with argument(s): train\u001b[0m\n",
      "\u001b[31m[10/06/2018 17:51:56 INFO 140315033212736] Reading default configuration from /opt/amazon/lib/python2.7/site-packages/algorithm/resources/default-input.json: {u'_tuning_objective_metric': u'', u'_num_gpus': u'auto', u'local_lloyd_num_trials': u'auto', u'_log_level': u'info', u'_kvstore': u'auto', u'local_lloyd_init_method': u'kmeans++', u'force_dense': u'true', u'epochs': u'1', u'init_method': u'random', u'local_lloyd_tol': u'0.0001', u'local_lloyd_max_iter': u'300', u'_disable_wait_to_read': u'false', u'extra_center_factor': u'auto', u'eval_metrics': u'[\"msd\"]', u'_num_kv_servers': u'1', u'mini_batch_size': u'5000', u'half_life_time_size': u'0', u'_num_slices': u'1'}\u001b[0m\n",
      "\u001b[31m[10/06/2018 17:51:56 INFO 140315033212736] Reading provided configuration from /opt/ml/input/config/hyperparameters.json: {u'feature_dim': u'784', u'k': u'10', u'force_dense': u'True'}\u001b[0m\n",
      "\u001b[31m[10/06/2018 17:51:56 INFO 140315033212736] Final configuration: {u'k': u'10', u'_tuning_objective_metric': u'', u'_num_gpus': u'auto', u'local_lloyd_num_trials': u'auto', u'_log_level': u'info', u'_kvstore': u'auto', u'local_lloyd_init_method': u'kmeans++', u'force_dense': u'True', u'epochs': u'1', u'init_method': u'random', u'feature_dim': u'784', u'local_lloyd_tol': u'0.0001', u'local_lloyd_max_iter': u'300', u'_disable_wait_to_read': u'false', u'extra_center_factor': u'auto', u'eval_metrics': u'[\"msd\"]', u'_num_kv_servers': u'1', u'mini_batch_size': u'5000', u'half_life_time_size': u'0', u'_num_slices': u'1'}\u001b[0m\n",
      "\u001b[31m[10/06/2018 17:51:56 WARNING 140315033212736] Loggers have already been setup.\u001b[0m\n",
      "\u001b[31m[10/06/2018 17:51:56 INFO 140315033212736] Launching parameter server for role scheduler\u001b[0m\n",
      "\u001b[31m[10/06/2018 17:51:56 INFO 140315033212736] {'ECS_CONTAINER_METADATA_URI': 'http://169.254.170.2/v3/c68e9365-842c-4717-a8dc-0b4b63f59f5a', 'PROTOCOL_BUFFERS_PYTHON_IMPLEMENTATION_VERSION': '2', 'PATH': '/opt/amazon/bin:/usr/local/nvidia/bin:/usr/local/sbin:/usr/local/bin:/usr/sbin:/usr/bin:/sbin:/bin:/opt/amazon/bin:/opt/amazon/bin', 'SAGEMAKER_HTTP_PORT': '8080', 'HOME': '/root', 'PYTHONUNBUFFERED': 'TRUE', 'CANONICAL_ENVROOT': '/opt/amazon', 'LD_LIBRARY_PATH': '/usr/local/nvidia/lib64:/opt/amazon/lib', 'MXNET_KVSTORE_BIGARRAY_BOUND': '400000000', 'LANG': 'en_US.utf8', 'DMLC_INTERFACE': 'ethwe', 'SHLVL': '1', 'AWS_REGION': 'us-east-1', 'NVIDIA_VISIBLE_DEVICES': 'all', 'TRAINING_JOB_NAME': 'kmeans-2018-10-06-17-49-22-982', 'PROTOCOL_BUFFERS_PYTHON_IMPLEMENTATION': 'cpp', 'ENVROOT': '/opt/amazon', 'SAGEMAKER_DATA_PATH': '/opt/ml', 'NVIDIA_DRIVER_CAPABILITIES': 'compute,utility', 'NVIDIA_REQUIRE_CUDA': 'cuda>=9.0', 'OMP_NUM_THREADS': '18', 'HOSTNAME': 'aws', 'AWS_CONTAINER_CREDENTIALS_RELATIVE_URI': '/v2/credentials/243b7760-cb53-4ca4-ad43-167e4afc38d8', 'PWD': '/'}\u001b[0m\n",
      "\u001b[31m[10/06/2018 17:51:56 INFO 140315033212736] envs={'ECS_CONTAINER_METADATA_URI': 'http://169.254.170.2/v3/c68e9365-842c-4717-a8dc-0b4b63f59f5a', 'PROTOCOL_BUFFERS_PYTHON_IMPLEMENTATION_VERSION': '2', 'DMLC_NUM_WORKER': '2', 'DMLC_PS_ROOT_PORT': '9000', 'PATH': '/opt/amazon/bin:/usr/local/nvidia/bin:/usr/local/sbin:/usr/local/bin:/usr/sbin:/usr/bin:/sbin:/bin:/opt/amazon/bin:/opt/amazon/bin', 'SAGEMAKER_HTTP_PORT': '8080', 'HOME': '/root', 'PYTHONUNBUFFERED': 'TRUE', 'CANONICAL_ENVROOT': '/opt/amazon', 'LD_LIBRARY_PATH': '/usr/local/nvidia/lib64:/opt/amazon/lib', 'MXNET_KVSTORE_BIGARRAY_BOUND': '400000000', 'LANG': 'en_US.utf8', 'DMLC_INTERFACE': 'ethwe', 'SHLVL': '1', 'DMLC_PS_ROOT_URI': '10.32.0.4', 'AWS_REGION': 'us-east-1', 'NVIDIA_VISIBLE_DEVICES': 'all', 'TRAINING_JOB_NAME': 'kmeans-2018-10-06-17-49-22-982', 'PROTOCOL_BUFFERS_PYTHON_IMPLEMENTATION': 'cpp', 'ENVROOT': '/opt/amazon', 'SAGEMAKER_DATA_PATH': '/opt/ml', 'NVIDIA_DRIVER_CAPABILITIES': 'compute,utility', 'NVIDIA_REQUIRE_CUDA': 'cuda>=9.0', 'OMP_NUM_THREADS': '18', 'HOSTNAME': 'aws', 'AWS_CONTAINER_CREDENTIALS_RELATIVE_URI': '/v2/credentials/243b7760-cb53-4ca4-ad43-167e4afc38d8', 'DMLC_ROLE': 'scheduler', 'PWD': '/', 'DMLC_NUM_SERVER': '1'}\u001b[0m\n",
      "\u001b[31m[10/06/2018 17:51:56 INFO 140315033212736] Launching parameter server for role server\u001b[0m\n",
      "\u001b[31m[10/06/2018 17:51:56 INFO 140315033212736] {'ECS_CONTAINER_METADATA_URI': 'http://169.254.170.2/v3/c68e9365-842c-4717-a8dc-0b4b63f59f5a', 'PROTOCOL_BUFFERS_PYTHON_IMPLEMENTATION_VERSION': '2', 'PATH': '/opt/amazon/bin:/usr/local/nvidia/bin:/usr/local/sbin:/usr/local/bin:/usr/sbin:/usr/bin:/sbin:/bin:/opt/amazon/bin:/opt/amazon/bin', 'SAGEMAKER_HTTP_PORT': '8080', 'HOME': '/root', 'PYTHONUNBUFFERED': 'TRUE', 'CANONICAL_ENVROOT': '/opt/amazon', 'LD_LIBRARY_PATH': '/usr/local/nvidia/lib64:/opt/amazon/lib', 'MXNET_KVSTORE_BIGARRAY_BOUND': '400000000', 'LANG': 'en_US.utf8', 'DMLC_INTERFACE': 'ethwe', 'SHLVL': '1', 'AWS_REGION': 'us-east-1', 'NVIDIA_VISIBLE_DEVICES': 'all', 'TRAINING_JOB_NAME': 'kmeans-2018-10-06-17-49-22-982', 'PROTOCOL_BUFFERS_PYTHON_IMPLEMENTATION': 'cpp', 'ENVROOT': '/opt/amazon', 'SAGEMAKER_DATA_PATH': '/opt/ml', 'NVIDIA_DRIVER_CAPABILITIES': 'compute,utility', 'NVIDIA_REQUIRE_CUDA': 'cuda>=9.0', 'OMP_NUM_THREADS': '18', 'HOSTNAME': 'aws', 'AWS_CONTAINER_CREDENTIALS_RELATIVE_URI': '/v2/credentials/243b7760-cb53-4ca4-ad43-167e4afc38d8', 'PWD': '/'}\u001b[0m\n",
      "\u001b[31m[10/06/2018 17:51:56 INFO 140315033212736] envs={'ECS_CONTAINER_METADATA_URI': 'http://169.254.170.2/v3/c68e9365-842c-4717-a8dc-0b4b63f59f5a', 'PROTOCOL_BUFFERS_PYTHON_IMPLEMENTATION_VERSION': '2', 'DMLC_NUM_WORKER': '2', 'DMLC_PS_ROOT_PORT': '9000', 'PATH': '/opt/amazon/bin:/usr/local/nvidia/bin:/usr/local/sbin:/usr/local/bin:/usr/sbin:/usr/bin:/sbin:/bin:/opt/amazon/bin:/opt/amazon/bin', 'SAGEMAKER_HTTP_PORT': '8080', 'HOME': '/root', 'PYTHONUNBUFFERED': 'TRUE', 'CANONICAL_ENVROOT': '/opt/amazon', 'LD_LIBRARY_PATH': '/usr/local/nvidia/lib64:/opt/amazon/lib', 'MXNET_KVSTORE_BIGARRAY_BOUND': '400000000', 'LANG': 'en_US.utf8', 'DMLC_INTERFACE': 'ethwe', 'SHLVL': '1', 'DMLC_PS_ROOT_URI': '10.32.0.4', 'AWS_REGION': 'us-east-1', 'NVIDIA_VISIBLE_DEVICES': 'all', 'TRAINING_JOB_NAME': 'kmeans-2018-10-06-17-49-22-982', 'PROTOCOL_BUFFERS_PYTHON_IMPLEMENTATION': 'cpp', 'ENVROOT': '/opt/amazon', 'SAGEMAKER_DATA_PATH': '/opt/ml', 'NVIDIA_DRIVER_CAPABILITIES': 'compute,utility', 'NVIDIA_REQUIRE_CUDA': 'cuda>=9.0', 'OMP_NUM_THREADS': '18', 'HOSTNAME': 'aws', 'AWS_CONTAINER_CREDENTIALS_RELATIVE_URI': '/v2/credentials/243b7760-cb53-4ca4-ad43-167e4afc38d8', 'DMLC_ROLE': 'server', 'PWD': '/', 'DMLC_NUM_SERVER': '1'}\u001b[0m\n",
      "\u001b[31m[10/06/2018 17:51:56 INFO 140315033212736] Environment: {'ECS_CONTAINER_METADATA_URI': 'http://169.254.170.2/v3/c68e9365-842c-4717-a8dc-0b4b63f59f5a', 'PROTOCOL_BUFFERS_PYTHON_IMPLEMENTATION_VERSION': '2', 'DMLC_PS_ROOT_PORT': '9000', 'DMLC_NUM_WORKER': '2', 'SAGEMAKER_HTTP_PORT': '8080', 'PATH': '/opt/amazon/bin:/usr/local/nvidia/bin:/usr/local/sbin:/usr/local/bin:/usr/sbin:/usr/bin:/sbin:/bin:/opt/amazon/bin:/opt/amazon/bin', 'PYTHONUNBUFFERED': 'TRUE', 'CANONICAL_ENVROOT': '/opt/amazon', 'LD_LIBRARY_PATH': '/usr/local/nvidia/lib64:/opt/amazon/lib', 'MXNET_KVSTORE_BIGARRAY_BOUND': '400000000', 'LANG': 'en_US.utf8', 'DMLC_INTERFACE': 'ethwe', 'SHLVL': '1', 'DMLC_PS_ROOT_URI': '10.32.0.4', 'AWS_REGION': 'us-east-1', 'NVIDIA_VISIBLE_DEVICES': 'all', 'TRAINING_JOB_NAME': 'kmeans-2018-10-06-17-49-22-982', 'HOME': '/root', 'PROTOCOL_BUFFERS_PYTHON_IMPLEMENTATION': 'cpp', 'ENVROOT': '/opt/amazon', 'SAGEMAKER_DATA_PATH': '/opt/ml', 'NVIDIA_DRIVER_CAPABILITIES': 'compute,utility', 'NVIDIA_REQUIRE_CUDA': 'cuda>=9.0', 'OMP_NUM_THREADS': '18', 'HOSTNAME': 'aws', 'AWS_CONTAINER_CREDENTIALS_RELATIVE_URI': '/v2/credentials/243b7760-cb53-4ca4-ad43-167e4afc38d8', 'DMLC_ROLE': 'worker', 'PWD': '/', 'DMLC_NUM_SERVER': '1'}\u001b[0m\n",
      "\u001b[31m[10/06/2018 17:51:56 INFO 140315033212736] Using default worker.\u001b[0m\n",
      "\u001b[31m[10/06/2018 17:51:56 INFO 140315033212736] Loaded iterator creator application/x-recordio-protobuf for content type ('application/x-recordio-protobuf', '1.0')\u001b[0m\n",
      "\u001b[31m[10/06/2018 17:51:56 INFO 140315033212736] Create Store: dist_async\u001b[0m\n",
      "\u001b[32m[10/06/2018 17:51:57 INFO 139906244921152] nvidia-smi took: 0.0252130031586 secs to identify 0 gpus\u001b[0m\n",
      "\u001b[32m[10/06/2018 17:51:57 INFO 139906244921152] Number of GPUs being used: 0\u001b[0m\n",
      "\u001b[32m[10/06/2018 17:51:57 INFO 139906244921152] Setting up with params: {u'k': u'10', u'_tuning_objective_metric': u'', u'_num_gpus': u'auto', u'local_lloyd_num_trials': u'auto', u'_log_level': u'info', u'_kvstore': u'auto', u'local_lloyd_init_method': u'kmeans++', u'force_dense': u'True', u'epochs': u'1', u'init_method': u'random', u'feature_dim': u'784', u'local_lloyd_tol': u'0.0001', u'local_lloyd_max_iter': u'300', u'_disable_wait_to_read': u'false', u'extra_center_factor': u'auto', u'eval_metrics': u'[\"msd\"]', u'_num_kv_servers': u'1', u'mini_batch_size': u'5000', u'half_life_time_size': u'0', u'_num_slices': u'1'}\u001b[0m\n",
      "\u001b[32m/opt/amazon/lib/python2.7/site-packages/ai_algorithms_sdk/config/config_helper.py:172: DeprecationWarning: deprecated\n",
      "  warnings.warn(\"deprecated\", DeprecationWarning)\u001b[0m\n",
      "\u001b[32m/opt/amazon/lib/python2.7/site-packages/ai_algorithms_sdk/config/config_helper.py:122: DeprecationWarning: deprecated\n",
      "  warnings.warn(\"deprecated\", DeprecationWarning)\u001b[0m\n",
      "\u001b[32m[10/06/2018 17:51:57 INFO 139906244921152] Number of GPUs being used: 0\u001b[0m\n",
      "\u001b[32m[10/06/2018 17:51:57 INFO 139906244921152] number of center slices 1\u001b[0m\n",
      "\u001b[32m#metrics {\"Metrics\": {\"Max Batches Seen Between Resets\": {\"count\": 1, \"max\": 1, \"sum\": 1.0, \"min\": 1}, \"Number of Batches Since Last Reset\": {\"count\": 1, \"max\": 1, \"sum\": 1.0, \"min\": 1}, \"Number of Records Since Last Reset\": {\"count\": 1, \"max\": 5000, \"sum\": 5000.0, \"min\": 5000}, \"Total Batches Seen\": {\"count\": 1, \"max\": 1, \"sum\": 1.0, \"min\": 1}, \"Total Records Seen\": {\"count\": 1, \"max\": 5000, \"sum\": 5000.0, \"min\": 5000}, \"Max Records Seen Between Resets\": {\"count\": 1, \"max\": 5000, \"sum\": 5000.0, \"min\": 5000}, \"Reset Count\": {\"count\": 1, \"max\": 0, \"sum\": 0.0, \"min\": 0}}, \"EndTime\": 1538848317.704293, \"Dimensions\": {\"Host\": \"algo-2\", \"Meta\": \"init_train_data_iter\", \"Operation\": \"training\", \"Algorithm\": \"AWS/KMeansWebscale\"}, \"StartTime\": 1538848317.704232}\n",
      "\u001b[0m\n",
      "\u001b[32m[10/06/2018 17:51:58 INFO 139906244921152] processed a total of 25000 examples\u001b[0m\n",
      "\u001b[32m[10/06/2018 17:51:58 INFO 139906244921152] #progress_metric: host=algo-2, completed 100 % of epochs\u001b[0m\n",
      "\u001b[32m#metrics {\"Metrics\": {\"Max Batches Seen Between Resets\": {\"count\": 1, \"max\": 5, \"sum\": 5.0, \"min\": 5}, \"Number of Batches Since Last Reset\": {\"count\": 1, \"max\": 5, \"sum\": 5.0, \"min\": 5}, \"Number of Records Since Last Reset\": {\"count\": 1, \"max\": 25000, \"sum\": 25000.0, \"min\": 25000}, \"Total Batches Seen\": {\"count\": 1, \"max\": 6, \"sum\": 6.0, \"min\": 6}, \"Total Records Seen\": {\"count\": 1, \"max\": 30000, \"sum\": 30000.0, \"min\": 30000}, \"Max Records Seen Between Resets\": {\"count\": 1, \"max\": 25000, \"sum\": 25000.0, \"min\": 25000}, \"Reset Count\": {\"count\": 1, \"max\": 1, \"sum\": 1.0, \"min\": 1}}, \"EndTime\": 1538848318.034587, \"Dimensions\": {\"Host\": \"algo-2\", \"Meta\": \"training_data_iter\", \"Operation\": \"training\", \"Algorithm\": \"AWS/KMeansWebscale\", \"epoch\": 0}, \"StartTime\": 1538848317.704531}\n",
      "\u001b[0m\n",
      "\u001b[32m[10/06/2018 17:51:58 INFO 139906244921152] #throughput_metric: host=algo-2, train throughput=75717.3855747 records/second\u001b[0m\n",
      "\u001b[32m[10/06/2018 17:51:58 INFO 139906244921152] shrinking 100 centers into 10\u001b[0m\n",
      "\u001b[32m[10/06/2018 17:51:58 INFO 139906244921152] local kmeans attempt #0. Current mean square distance 10.736797\u001b[0m\n",
      "\u001b[32m[10/06/2018 17:51:58 INFO 139906244921152] local kmeans attempt #1. Current mean square distance 11.059831\u001b[0m\n",
      "\u001b[32m[10/06/2018 17:51:58 INFO 139906244921152] local kmeans attempt #2. Current mean square distance 10.497703\u001b[0m\n",
      "\u001b[32m[10/06/2018 17:51:58 INFO 139906244921152] local kmeans attempt #3. Current mean square distance 10.446959\u001b[0m\n",
      "\u001b[32m[10/06/2018 17:51:58 INFO 139906244921152] local kmeans attempt #4. Current mean square distance 10.713162\u001b[0m\n",
      "\u001b[32m[10/06/2018 17:51:58 INFO 139906244921152] local kmeans attempt #5. Current mean square distance 10.644881\u001b[0m\n",
      "\u001b[32m[10/06/2018 17:51:58 INFO 139906244921152] local kmeans attempt #6. Current mean square distance 11.084091\u001b[0m\n",
      "\u001b[32m[10/06/2018 17:51:58 INFO 139906244921152] local kmeans attempt #7. Current mean square distance 10.612811\u001b[0m\n",
      "\u001b[31m[10/06/2018 17:51:57 INFO 140315033212736] nvidia-smi took: 0.0251989364624 secs to identify 0 gpus\u001b[0m\n",
      "\u001b[31m[10/06/2018 17:51:57 INFO 140315033212736] Number of GPUs being used: 0\u001b[0m\n",
      "\u001b[31m[10/06/2018 17:51:57 INFO 140315033212736] Setting up with params: {u'k': u'10', u'_tuning_objective_metric': u'', u'_num_gpus': u'auto', u'local_lloyd_num_trials': u'auto', u'_log_level': u'info', u'_kvstore': u'auto', u'local_lloyd_init_method': u'kmeans++', u'force_dense': u'True', u'epochs': u'1', u'init_method': u'random', u'feature_dim': u'784', u'local_lloyd_tol': u'0.0001', u'local_lloyd_max_iter': u'300', u'_disable_wait_to_read': u'false', u'extra_center_factor': u'auto', u'eval_metrics': u'[\"msd\"]', u'_num_kv_servers': u'1', u'mini_batch_size': u'5000', u'half_life_time_size': u'0', u'_num_slices': u'1'}\u001b[0m\n",
      "\u001b[31m/opt/amazon/lib/python2.7/site-packages/ai_algorithms_sdk/config/config_helper.py:172: DeprecationWarning: deprecated\n",
      "  warnings.warn(\"deprecated\", DeprecationWarning)\u001b[0m\n",
      "\u001b[31m/opt/amazon/lib/python2.7/site-packages/ai_algorithms_sdk/config/config_helper.py:122: DeprecationWarning: deprecated\n",
      "  warnings.warn(\"deprecated\", DeprecationWarning)\u001b[0m\n",
      "\u001b[31m[10/06/2018 17:51:57 INFO 140315033212736] Number of GPUs being used: 0\u001b[0m\n",
      "\u001b[31m[10/06/2018 17:51:57 INFO 140315033212736] number of center slices 1\u001b[0m\n",
      "\u001b[31m#metrics {\"Metrics\": {\"Max Batches Seen Between Resets\": {\"count\": 1, \"max\": 1, \"sum\": 1.0, \"min\": 1}, \"Number of Batches Since Last Reset\": {\"count\": 1, \"max\": 1, \"sum\": 1.0, \"min\": 1}, \"Number of Records Since Last Reset\": {\"count\": 1, \"max\": 5000, \"sum\": 5000.0, \"min\": 5000}, \"Total Batches Seen\": {\"count\": 1, \"max\": 1, \"sum\": 1.0, \"min\": 1}, \"Total Records Seen\": {\"count\": 1, \"max\": 5000, \"sum\": 5000.0, \"min\": 5000}, \"Max Records Seen Between Resets\": {\"count\": 1, \"max\": 5000, \"sum\": 5000.0, \"min\": 5000}, \"Reset Count\": {\"count\": 1, \"max\": 0, \"sum\": 0.0, \"min\": 0}}, \"EndTime\": 1538848317.706772, \"Dimensions\": {\"Host\": \"algo-1\", \"Meta\": \"init_train_data_iter\", \"Operation\": \"training\", \"Algorithm\": \"AWS/KMeansWebscale\"}, \"StartTime\": 1538848317.706741}\n",
      "\u001b[0m\n",
      "\u001b[31m[10/06/2018 17:51:58 INFO 140315033212736] processed a total of 25000 examples\u001b[0m\n",
      "\u001b[31m[10/06/2018 17:51:58 INFO 140315033212736] #progress_metric: host=algo-1, completed 100 % of epochs\u001b[0m\n",
      "\u001b[31m#metrics {\"Metrics\": {\"Max Batches Seen Between Resets\": {\"count\": 1, \"max\": 5, \"sum\": 5.0, \"min\": 5}, \"Number of Batches Since Last Reset\": {\"count\": 1, \"max\": 5, \"sum\": 5.0, \"min\": 5}, \"Number of Records Since Last Reset\": {\"count\": 1, \"max\": 25000, \"sum\": 25000.0, \"min\": 25000}, \"Total Batches Seen\": {\"count\": 1, \"max\": 6, \"sum\": 6.0, \"min\": 6}, \"Total Records Seen\": {\"count\": 1, \"max\": 30000, \"sum\": 30000.0, \"min\": 30000}, \"Max Records Seen Between Resets\": {\"count\": 1, \"max\": 25000, \"sum\": 25000.0, \"min\": 25000}, \"Reset Count\": {\"count\": 1, \"max\": 1, \"sum\": 1.0, \"min\": 1}}, \"EndTime\": 1538848318.032177, \"Dimensions\": {\"Host\": \"algo-1\", \"Meta\": \"training_data_iter\", \"Operation\": \"training\", \"Algorithm\": \"AWS/KMeansWebscale\", \"epoch\": 0}, \"StartTime\": 1538848317.707022}\n",
      "\u001b[0m\n",
      "\u001b[31m[10/06/2018 17:51:58 INFO 140315033212736] #throughput_metric: host=algo-1, train throughput=76855.465028 records/second\u001b[0m\n",
      "\u001b[31m[10/06/2018 17:51:58 INFO 140315033212736] shrinking 100 centers into 10\u001b[0m\n",
      "\u001b[31m[10/06/2018 17:51:58 INFO 140315033212736] local kmeans attempt #0. Current mean square distance 10.541654\u001b[0m\n",
      "\u001b[31m[10/06/2018 17:51:58 INFO 140315033212736] local kmeans attempt #1. Current mean square distance 11.039732\u001b[0m\n",
      "\u001b[31m[10/06/2018 17:51:58 INFO 140315033212736] local kmeans attempt #2. Current mean square distance 10.441530\u001b[0m\n",
      "\u001b[31m[10/06/2018 17:51:58 INFO 140315033212736] local kmeans attempt #3. Current mean square distance 10.225791\u001b[0m\n",
      "\u001b[31m[10/06/2018 17:51:58 INFO 140315033212736] local kmeans attempt #4. Current mean square distance 10.853857\u001b[0m\n",
      "\u001b[31m[10/06/2018 17:51:58 INFO 140315033212736] local kmeans attempt #5. Current mean square distance 10.407412\u001b[0m\n",
      "\u001b[31m[10/06/2018 17:51:58 INFO 140315033212736] local kmeans attempt #6. Current mean square distance 10.673787\u001b[0m\n",
      "\u001b[31m[10/06/2018 17:51:58 INFO 140315033212736] local kmeans attempt #7. Current mean square distance 10.948105\u001b[0m\n",
      "\u001b[31m[10/06/2018 17:51:58 INFO 140315033212736] local kmeans attempt #8. Current mean square distance 10.541201\u001b[0m\n",
      "\u001b[31m[10/06/2018 17:51:58 INFO 140315033212736] local kmeans attempt #9. Current mean square distance 10.740486\u001b[0m\n",
      "\u001b[31m[10/06/2018 17:51:58 INFO 140315033212736] finished shrinking process. Mean Square Distance = 10\u001b[0m\n",
      "\u001b[31m[10/06/2018 17:51:58 INFO 140315033212736] #quality_metric: host=algo-1, train msd <loss>=10.2257909775\u001b[0m\n",
      "\u001b[31m[10/06/2018 17:51:58 INFO 140315033212736] batch data loading with context took: 60.4584%, (0.196623 secs)\u001b[0m\n",
      "\u001b[31m[10/06/2018 17:51:58 INFO 140315033212736] compute all data-center distances: point norm took: 11.1652%, (0.036312 secs)\u001b[0m\n",
      "\u001b[31m[10/06/2018 17:51:58 INFO 140315033212736] compute all data-center distances: inner product took: 8.6680%, (0.028190 secs)\u001b[0m\n",
      "\u001b[31m[10/06/2018 17:51:58 INFO 140315033212736] predict compute msd took: 8.0705%, (0.026247 secs)\u001b[0m\n",
      "\u001b[31m[10/06/2018 17:51:58 INFO 140315033212736] gradient: cluster center took: 5.0217%, (0.016331 secs)\u001b[0m\n",
      "\u001b[31m[10/06/2018 17:51:58 INFO 140315033212736] collect from kv store took: 2.3335%, (0.007589 secs)\u001b[0m\n",
      "\u001b[31m[10/06/2018 17:51:58 INFO 140315033212736] splitting centers key-value pair took: 1.1463%, (0.003728 secs)\u001b[0m\n",
      "\u001b[31m[10/06/2018 17:51:58 INFO 140315033212736] gradient: cluster size  took: 1.1388%, (0.003704 secs)\u001b[0m\n",
      "\u001b[31m[10/06/2018 17:51:58 INFO 140315033212736] gradient: one_hot took: 1.0789%, (0.003509 secs)\u001b[0m\n",
      "\u001b[31m[10/06/2018 17:51:58 INFO 140315033212736] update state and report convergance took: 0.4231%, (0.001376 secs)\u001b[0m\n",
      "\u001b[31m[10/06/2018 17:51:58 INFO 140315033212736] compute all data-center distances: center norm took: 0.3979%, (0.001294 secs)\u001b[0m\n",
      "\u001b[31m[10/06/2018 17:51:58 INFO 140315033212736] update set-up time took: 0.0573%, (0.000186 secs)\u001b[0m\n",
      "\u001b[31m[10/06/2018 17:51:58 INFO 140315033212736] predict minus dist took: 0.0403%, (0.000131 secs)\u001b[0m\n",
      "\u001b[31m[10/06/2018 17:51:58 INFO 140315033212736] TOTAL took: 0.325220346451\u001b[0m\n",
      "\u001b[31m[10/06/2018 17:51:58 INFO 140315033212736] Number of GPUs being used: 0\u001b[0m\n",
      "\u001b[31m#metrics {\"Metrics\": {\"finalize.time\": {\"count\": 1, \"max\": 300.27008056640625, \"sum\": 300.27008056640625, \"min\": 300.27008056640625}, \"initialize.time\": {\"count\": 1, \"max\": 21.24786376953125, \"sum\": 21.24786376953125, \"min\": 21.24786376953125}, \"model.serialize.time\": {\"count\": 1, \"max\": 0.19502639770507812, \"sum\": 0.19502639770507812, \"min\": 0.19502639770507812}, \"update.time\": {\"count\": 1, \"max\": 324.93090629577637, \"sum\": 324.93090629577637, \"min\": 324.93090629577637}, \"epochs\": {\"count\": 1, \"max\": 1, \"sum\": 1.0, \"min\": 1}, \"state.serialize.time\": {\"count\": 1, \"max\": 0.5168914794921875, \"sum\": 0.5168914794921875, \"min\": 0.5168914794921875}, \"_shrink.time\": {\"count\": 1, \"max\": 297.61290550231934, \"sum\": 297.61290550231934, \"min\": 297.61290550231934}}, \"EndTime\": 1538848318.339533, \"Dimensions\": {\"Host\": \"algo-1\", \"Operation\": \"training\", \"Algorithm\": \"AWS/KMeansWebscale\"}, \"StartTime\": 1538848317.642296}\n",
      "\u001b[0m\n",
      "\u001b[31m[10/06/2018 17:51:58 INFO 140315033212736] Test data is not provided.\u001b[0m\n",
      "\u001b[31m#metrics {\"Metrics\": {\"totaltime\": {\"count\": 1, \"max\": 1858.7818145751953, \"sum\": 1858.7818145751953, \"min\": 1858.7818145751953}, \"setuptime\": {\"count\": 1, \"max\": 25.950908660888672, \"sum\": 25.950908660888672, \"min\": 25.950908660888672}}, \"EndTime\": 1538848318.342718, \"Dimensions\": {\"Host\": \"algo-1\", \"Operation\": \"training\", \"Algorithm\": \"AWS/KMeansWebscale\"}, \"StartTime\": 1538848318.339608}\n",
      "\u001b[0m\n",
      "\u001b[32m[10/06/2018 17:51:58 INFO 139906244921152] local kmeans attempt #8. Current mean square distance 10.893266\u001b[0m\n",
      "\u001b[32m[10/06/2018 17:51:58 INFO 139906244921152] local kmeans attempt #9. Current mean square distance 10.740486\u001b[0m\n",
      "\u001b[32m[10/06/2018 17:51:58 INFO 139906244921152] finished shrinking process. Mean Square Distance = 10\u001b[0m\n",
      "\u001b[32m[10/06/2018 17:51:58 INFO 139906244921152] #quality_metric: host=algo-2, train msd <loss>=10.4469594955\u001b[0m\n",
      "\u001b[32m[10/06/2018 17:51:58 INFO 139906244921152] batch data loading with context took: 55.6663%, (0.184424 secs)\u001b[0m\n",
      "\u001b[32m[10/06/2018 17:51:58 INFO 139906244921152] compute all data-center distances: point norm took: 11.3816%, (0.037708 secs)\u001b[0m\n",
      "\u001b[32m[10/06/2018 17:51:58 INFO 139906244921152] compute all data-center distances: inner product took: 10.3702%, (0.034357 secs)\u001b[0m\n",
      "\u001b[32m[10/06/2018 17:51:58 INFO 139906244921152] predict compute msd took: 7.7733%, (0.025753 secs)\u001b[0m\n",
      "\u001b[32m[10/06/2018 17:51:58 INFO 139906244921152] collect from kv store took: 6.0745%, (0.020125 secs)\u001b[0m\n",
      "\u001b[32m[10/06/2018 17:51:58 INFO 139906244921152] gradient: cluster center took: 4.3174%, (0.014304 secs)\u001b[0m\n",
      "\u001b[32m[10/06/2018 17:51:58 INFO 139906244921152] splitting centers key-value pair took: 1.3139%, (0.004353 secs)\u001b[0m\n",
      "\u001b[32m[10/06/2018 17:51:58 INFO 139906244921152] gradient: one_hot took: 1.2896%, (0.004272 secs)\u001b[0m\n",
      "\u001b[32m[10/06/2018 17:51:58 INFO 139906244921152] gradient: cluster size  took: 0.9839%, (0.003260 secs)\u001b[0m\n",
      "\u001b[32m[10/06/2018 17:51:58 INFO 139906244921152] update state and report convergance took: 0.4049%, (0.001342 secs)\u001b[0m\n",
      "\u001b[32m[10/06/2018 17:51:58 INFO 139906244921152] compute all data-center distances: center norm took: 0.3380%, (0.001120 secs)\u001b[0m\n",
      "\u001b[32m[10/06/2018 17:51:58 INFO 139906244921152] update set-up time took: 0.0516%, (0.000171 secs)\u001b[0m\n",
      "\u001b[32m[10/06/2018 17:51:58 INFO 139906244921152] predict minus dist took: 0.0348%, (0.000115 secs)\u001b[0m\n",
      "\u001b[32m[10/06/2018 17:51:58 INFO 139906244921152] TOTAL took: 0.331302881241\u001b[0m\n",
      "\u001b[32m[10/06/2018 17:51:58 INFO 139906244921152] Number of GPUs being used: 0\u001b[0m\n",
      "\u001b[32m[10/06/2018 17:51:58 INFO 139906244921152] No model is serialized on a non-master node\u001b[0m\n",
      "\u001b[32m#metrics {\"Metrics\": {\"finalize.time\": {\"count\": 1, \"max\": 327.6181221008301, \"sum\": 327.6181221008301, \"min\": 327.6181221008301}, \"initialize.time\": {\"count\": 1, \"max\": 20.19214630126953, \"sum\": 20.19214630126953, \"min\": 20.19214630126953}, \"model.serialize.time\": {\"count\": 1, \"max\": 0.05984306335449219, \"sum\": 0.05984306335449219, \"min\": 0.05984306335449219}, \"update.time\": {\"count\": 1, \"max\": 329.85591888427734, \"sum\": 329.85591888427734, \"min\": 329.85591888427734}, \"epochs\": {\"count\": 1, \"max\": 1, \"sum\": 1.0, \"min\": 1}, \"state.serialize.time\": {\"count\": 1, \"max\": 0.5249977111816406, \"sum\": 0.5249977111816406, \"min\": 0.5249977111816406}, \"_shrink.time\": {\"count\": 1, \"max\": 324.0640163421631, \"sum\": 324.0640163421631, \"min\": 324.0640163421631}}, \"EndTime\": 1538848318.363634, \"Dimensions\": {\"Host\": \"algo-2\", \"Operation\": \"training\", \"Algorithm\": \"AWS/KMeansWebscale\"}, \"StartTime\": 1538848317.639927}\n",
      "\u001b[0m\n",
      "\u001b[32m[10/06/2018 17:51:58 INFO 139906244921152] Test data is not provided.\u001b[0m\n",
      "\u001b[32m#metrics {\"Metrics\": {\"totaltime\": {\"count\": 1, \"max\": 2473.0241298675537, \"sum\": 2473.0241298675537, \"min\": 2473.0241298675537}, \"setuptime\": {\"count\": 1, \"max\": 1029.8981666564941, \"sum\": 1029.8981666564941, \"min\": 1029.8981666564941}}, \"EndTime\": 1538848318.366375, \"Dimensions\": {\"Host\": \"algo-2\", \"Operation\": \"training\", \"Algorithm\": \"AWS/KMeansWebscale\"}, \"StartTime\": 1538848318.363698}\n",
      "\u001b[0m\n"
     ]
    },
    {
     "name": "stdout",
     "output_type": "stream",
     "text": [
      "\n",
      "2018-10-06 17:52:01 Uploading - Uploading generated training model\n",
      "2018-10-06 17:52:06 Completed - Training job completed\n",
      "Billable seconds: 72\n"
     ]
    }
   ],
   "source": [
    "# To start model training, call the KMeans estimator's fit method.\n",
    "# This is a synchronous operation. The method displays progress logs and waits until training completes before returning.\n",
    "\n",
    "kmeans.fit(kmeans.record_set(train_set[0]))"
   ]
  },
  {
   "cell_type": "markdown",
   "metadata": {},
   "source": [
    "<a id='3.3'></a>"
   ]
  },
  {
   "cell_type": "markdown",
   "metadata": {},
   "source": [
    "#### 3.3 Additional Notes - Implicit Actions"
   ]
  },
  {
   "cell_type": "markdown",
   "metadata": {},
   "source": [
    "We now have trained a model. The resulting model artifacts are stored in the S3 bucket.\n",
    "\n",
    "1) Docker image:\n",
    "Typically, we have to specify the registry path of the Docker image that contains the training code. For the registry paths for the algorithms provided by Amazon SageMaker, we don't need to explicitly specify this path when using the high-level Python library. The sagemaker.amazon.kmeans.KMeans object knows the path.\n",
    "\n",
    "2) Transform training dataset and upload it to S3\n",
    "For efficient model training, transform the dataset from the numpy.array format to the RecordIO protobuf format. The RecordIO protobuf format is more efficient for all of the algorithms provided by Amazon SageMaker. Fit method for model training performs the necessary transformation implicitly and upload to S3 before starting a model training job."
   ]
  },
  {
   "cell_type": "markdown",
   "metadata": {},
   "source": [
    "<a id='4'></a>"
   ]
  },
  {
   "cell_type": "markdown",
   "metadata": {},
   "source": [
    "### 4. Deploy the Model to Amazon SageMaker"
   ]
  },
  {
   "cell_type": "markdown",
   "metadata": {},
   "source": [
    "The sagemaker.amazon.kmeans.KMeans class provides the deploy method for deploying a model. It performs all three steps of the model deployment process.\n",
    "\n",
    "###### 1. Create a model in Amazon SageMaker: \n",
    "Requires information such as the location of the S3 bucket that contains model artifacts and the registry path of\n",
    "the image that contains inference code.\n",
    "\n",
    "###### 2. Create an endpoint configuration:\n",
    "Requires resource configuration information for hosting. This includes the type and number of ML compute instances to launch for deploying the model.\n",
    "\n",
    "###### 3. Create an endpoint:\n",
    "SageMaker launches the ML compute instances and deploys the model. In the response, Amazon SageMaker returns an endpoint. Applications can send requests to this endpoint to get inferences from the model.\n",
    "\n",
    "The sagemaker.amazon.kmeans.KMeans instance knows the registry path of the image that contains the k-means inference code, so we don't need to provide it. This is a synchronous operation. The method waits until the deployment completes before returning. It returns a kmeans_predictor."
   ]
  },
  {
   "cell_type": "code",
   "execution_count": 9,
   "metadata": {},
   "outputs": [
    {
     "name": "stderr",
     "output_type": "stream",
     "text": [
      "INFO:sagemaker:Creating model with name: kmeans-2018-10-06-17-52-53-415\n",
      "INFO:sagemaker:Creating endpoint with name kmeans-2018-10-06-17-49-22-982\n"
     ]
    },
    {
     "name": "stdout",
     "output_type": "stream",
     "text": [
      "---------------------------------------------------------------!CPU times: user 260 ms, sys: 36 ms, total: 296 ms\n",
      "Wall time: 5min 19s\n"
     ]
    }
   ],
   "source": [
    "%%time\n",
    "kmeans_predictor = kmeans.deploy(initial_instance_count=1, instance_type='ml.m4.xlarge')"
   ]
  },
  {
   "cell_type": "markdown",
   "metadata": {},
   "source": [
    "<a id='5'></a>"
   ]
  },
  {
   "cell_type": "markdown",
   "metadata": {},
   "source": [
    "### 5. Validate the Model"
   ]
  },
  {
   "cell_type": "markdown",
   "metadata": {},
   "source": [
    "The next step is to validate the model by sending sample requests, which in turn returns inferences.\n",
    "\n",
    "The kmeans_predictor returned by the deploy call in the preceding step provides the predict method. To get inferences from the model, we need to call this method."
   ]
  },
  {
   "cell_type": "code",
   "execution_count": 10,
   "metadata": {},
   "outputs": [
    {
     "name": "stdout",
     "output_type": "stream",
     "text": [
      "[label {\n",
      "  key: \"closest_cluster\"\n",
      "  value {\n",
      "    float32_tensor {\n",
      "      values: 3.0\n",
      "    }\n",
      "  }\n",
      "}\n",
      "label {\n",
      "  key: \"distance_to_cluster\"\n",
      "  value {\n",
      "    float32_tensor {\n",
      "      values: 5.440222263336182\n",
      "    }\n",
      "  }\n",
      "}\n",
      "]\n"
     ]
    }
   ],
   "source": [
    "# Get an inference for the 30th image of a handwritten number in the valid_set dataset.\n",
    "result = kmeans_predictor.predict(valid_set[0][30:31])\n",
    "print(result)\n",
    "\n",
    "# The response shows that the input image belongs to cluster 3. It also shows the mean squared distance for that cluster.\n",
    "# Note: In the k-means implementation, the cluster numbers and digit they represent don't align. \n",
    "# For example, algorithm might group images of the handwritten number 3 in cluster 0, and images of the number 4 in cluster 9.\n"
   ]
  },
  {
   "cell_type": "code",
   "execution_count": 12,
   "metadata": {},
   "outputs": [
    {
     "name": "stdout",
     "output_type": "stream",
     "text": [
      "\n",
      "\n",
      "\n",
      "Cluster 0:\n"
     ]
    },
    {
     "data": {
      "image/png": "[encoded data removed]",
      "text/plain": [
       "<Figure size 360x144 with 10 Axes>"
      ]
     },
     "metadata": {},
     "output_type": "display_data"
    },
    {
     "name": "stdout",
     "output_type": "stream",
     "text": [
      "\n",
      "\n",
      "\n",
      "Cluster 1:\n"
     ]
    },
    {
     "data": {
      "image/png": "[encoded data removed]",
      "text/plain": [
       "<Figure size 360x216 with 15 Axes>"
      ]
     },
     "metadata": {},
     "output_type": "display_data"
    },
    {
     "name": "stdout",
     "output_type": "stream",
     "text": [
      "\n",
      "\n",
      "\n",
      "Cluster 2:\n"
     ]
    },
    {
     "data": {
      "image/png": "[encoded data removed]",
      "text/plain": [
       "<Figure size 360x144 with 10 Axes>"
      ]
     },
     "metadata": {},
     "output_type": "display_data"
    },
    {
     "name": "stdout",
     "output_type": "stream",
     "text": [
      "\n",
      "\n",
      "\n",
      "Cluster 3:\n"
     ]
    },
    {
     "data": {
      "image/png": "[encoded data removed]",
      "text/plain": [
       "<Figure size 360x360 with 25 Axes>"
      ]
     },
     "metadata": {},
     "output_type": "display_data"
    },
    {
     "name": "stdout",
     "output_type": "stream",
     "text": [
      "\n",
      "\n",
      "\n",
      "Cluster 4:\n"
     ]
    },
    {
     "data": {
      "image/png": "[encoded data removed]",
      "text/plain": [
       "<Figure size 360x288 with 20 Axes>"
      ]
     },
     "metadata": {},
     "output_type": "display_data"
    },
    {
     "name": "stdout",
     "output_type": "stream",
     "text": [
      "\n",
      "\n",
      "\n",
      "Cluster 5:\n"
     ]
    },
    {
     "data": {
      "image/png": "[encoded data removed]",
      "text/plain": [
       "<Figure size 360x144 with 10 Axes>"
      ]
     },
     "metadata": {},
     "output_type": "display_data"
    },
    {
     "name": "stdout",
     "output_type": "stream",
     "text": [
      "\n",
      "\n",
      "\n",
      "Cluster 6:\n"
     ]
    },
    {
     "data": {
      "image/png": "[encoded data removed]",
      "text/plain": [
       "<Figure size 360x144 with 10 Axes>"
      ]
     },
     "metadata": {},
     "output_type": "display_data"
    },
    {
     "name": "stdout",
     "output_type": "stream",
     "text": [
      "\n",
      "\n",
      "\n",
      "Cluster 7:\n"
     ]
    },
    {
     "data": {
      "image/png": "[encoded data removed]",
      "text/plain": [
       "<Figure size 360x72 with 5 Axes>"
      ]
     },
     "metadata": {},
     "output_type": "display_data"
    },
    {
     "name": "stdout",
     "output_type": "stream",
     "text": [
      "\n",
      "\n",
      "\n",
      "Cluster 8:\n"
     ]
    },
    {
     "data": {
      "image/png": "[encoded data removed]",
      "text/plain": [
       "<Figure size 360x144 with 10 Axes>"
      ]
     },
     "metadata": {},
     "output_type": "display_data"
    },
    {
     "name": "stdout",
     "output_type": "stream",
     "text": [
      "\n",
      "\n",
      "\n",
      "Cluster 9:\n"
     ]
    },
    {
     "data": {
      "image/png": "[encoded data removed]",
      "text/plain": [
       "<Figure size 360x144 with 10 Axes>"
      ]
     },
     "metadata": {},
     "output_type": "display_data"
    },
    {
     "name": "stdout",
     "output_type": "stream",
     "text": [
      "CPU times: user 4.16 s, sys: 1.55 s, total: 5.7 s\n",
      "Wall time: 3.59 s\n"
     ]
    }
   ],
   "source": [
    "%%time\n",
    "# Get inferences for the first 100 images.\n",
    "\n",
    "result = kmeans_predictor.predict(valid_set[0][0:100])\n",
    "clusters = [r.label['closest_cluster'].float32_tensor.values[0] for r in result]\n",
    "\n",
    "\n",
    "for cluster in range(10):\n",
    "    print('\\n\\n\\nCluster {}:'.format(int(cluster)))\n",
    "    digits = [ img for l, img in zip(clusters, valid_set[0]) if int(l) == cluster ]\n",
    "    height = ((len(digits)-1)//5) + 1\n",
    "    width = 5\n",
    "    plt.rcParams[\"figure.figsize\"] = (width,height)\n",
    "    _, subplots = plt.subplots(height, width)\n",
    "    subplots = numpy.ndarray.flatten(subplots)\n",
    "    for subplot, image in zip(subplots, digits):\n",
    "        show_digit(image, subplot=subplot)\n",
    "    for subplot in subplots[len(digits):]:\n",
    "        subplot.axis('off')\n",
    "    \n",
    "    plt.show()\n",
    "    \n",
    "# This code takes the first 100 images of handwritten numbers from the valid_set dataset and generates inferences for them.\n",
    "# The result is a set of clusters that group similar images.\n",
    "# The following visualization shows the clusters that the model returned:"
   ]
  },
  {
   "cell_type": "markdown",
   "metadata": {},
   "source": [
    "So, the conclusion is K-means is not the best algorithm for image analysis problems but it is a good starting point to implement POCs or understand the mechanisms of how SageMaker works.\n",
    "\n",
    "To improve the model, we might make the following changes to the training job:\n",
    "\n",
    "• Automatic Model tuning/Hyperparameter tuning - Change the model training parameters. For example, increase the number of epochs or tweak hyperparameters, such extra_center_factor.\n",
    "\n",
    "• Consider switching the algorithm - The images in the MNIST dataset include information that identifies the digits, called labels. We might then use the label information and a supervised algorithm, such as the linear learner algorithm provided by Amazon SageMaker.\n",
    "\n",
    "• Try a more specialized algorithm such as the image classification algorithm provided by Amazon SageMaker instead of the linear learner algorithm."
   ]
  },
  {
   "cell_type": "markdown",
   "metadata": {},
   "source": [
    "<a id='6'></a>"
   ]
  },
  {
   "cell_type": "markdown",
   "metadata": {},
   "source": [
    "### 6. Clean Up"
   ]
  },
  {
   "cell_type": "code",
   "execution_count": 15,
   "metadata": {},
   "outputs": [
    {
     "name": "stderr",
     "output_type": "stream",
     "text": [
      "INFO:sagemaker:Deleting endpoint with name: kmeans-2018-10-06-17-49-22-982\n"
     ]
    },
    {
     "name": "stdout",
     "output_type": "stream",
     "text": [
      "kmeans-2018-10-06-17-49-22-982\n"
     ]
    }
   ],
   "source": [
    "# to delete the hosted endpoint and avoid incurring charges\n",
    "\n",
    "print(kmeans_predictor.endpoint)\n",
    "\n",
    "import sagemaker\n",
    "sagemaker.Session().delete_endpoint(kmeans_predictor.endpoint)"
   ]
  }
 ],
 "metadata": {
  "kernelspec": {
   "display_name": "Python 3",
   "language": "python",
   "name": "python3"
  },
  "language_info": {
   "codemirror_mode": {
    "name": "ipython",
    "version": 3
   },
   "file_extension": ".py",
   "mimetype": "text/x-python",
   "name": "python",
   "nbconvert_exporter": "python",
   "pygments_lexer": "ipython3",
   "version": "3.7.0"
  }
 },
 "nbformat": 4,
 "nbformat_minor": 2
}
